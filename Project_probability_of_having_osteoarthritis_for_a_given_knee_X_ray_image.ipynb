{
  "cells": [
    {
      "cell_type": "markdown",
      "metadata": {
        "id": "view-in-github",
        "colab_type": "text"
      },
      "source": [
        "<a href=\"https://colab.research.google.com/github/mohdabdulrahman297/Project-probability-of-having-osteoarthritis-for-a-given-knee-X-ray-image/blob/main/Project_probability_of_having_osteoarthritis_for_a_given_knee_X_ray_image.ipynb\" target=\"_parent\"><img src=\"https://colab.research.google.com/assets/colab-badge.svg\" alt=\"Open In Colab\"/></a>"
      ]
    },
    {
      "cell_type": "code",
      "execution_count": null,
      "metadata": {
        "colab": {
          "base_uri": "https://localhost:8080/"
        },
        "id": "-1uLovOR54tc",
        "outputId": "991466d0-40e7-467f-951e-2a8b3d76dae0"
      },
      "outputs": [
        {
          "name": "stdout",
          "output_type": "stream",
          "text": [
            "Mounted at /content/drive\n"
          ]
        }
      ],
      "source": [
        "# importing the necessary dependencies\n",
        "from glob import glob\n",
        "import os\n",
        "import random\n",
        "import math\n",
        "import tensorflow as tf\n",
        "from tensorflow import keras\n",
        "from tensorflow.keras.layers import Input,Conv2D,Dense,Flatten,Dropout\n",
        "from tensorflow.keras.layers import GlobalMaxPooling2D,MaxPooling2D\n",
        "from tensorflow.keras.layers import BatchNormalization\n",
        "from tensorflow.keras.models import Model\n",
        "                            \n",
        "from tensorflow.keras.models import load_model,Model,Sequential\n",
        "import cv2,os\n",
        "from google.colab import drive\n",
        "drive.mount('/content/drive')\n",
        "data_path='/content/drive/MyDrive/Osteoarthritis_Assignment_dataset'"
      ]
    },
    {
      "cell_type": "code",
      "execution_count": null,
      "metadata": {
        "id": "qoBz2hKL6PTi"
      },
      "outputs": [],
      "source": [
        "# image size and and path of the folders\n",
        "IMG_height=224\n",
        "IMG_width=224\n",
        "val_path=r'/content/drive/MyDrive/Osteoarthritis_Assignment_dataset/Valid'\n",
        "test_path=r'/content/drive/MyDrive/Osteoarthritis_Assignment_dataset/test'\n",
        "train_path=r'/content/drive/MyDrive/Osteoarthritis_Assignment_dataset/train'"
      ]
    },
    {
      "cell_type": "code",
      "execution_count": null,
      "metadata": {
        "colab": {
          "base_uri": "https://localhost:8080/"
        },
        "id": "MW0c4iUF7Pu0",
        "outputId": "eca091ff-2273-4e24-d8d4-4133445d1c69"
      },
      "outputs": [
        {
          "name": "stdout",
          "output_type": "stream",
          "text": [
            "Classes: ['Osteoarthritis', 'Normal']\n",
            "Number of training images : 2350\n",
            "Number of validation images : 641\n"
          ]
        }
      ],
      "source": [
        "classes = os.listdir(train_path)\n",
        "#Counting total number of images for training and valdation\n",
        "num_train=len(glob(train_path +'/*/*'))\n",
        "num_val = len(glob(val_path + '/*/*'))\n",
        "print('Classes:',classes)\n",
        "print(f'Number of training images : {num_train}\\nNumber of validation images : {num_val}')"
      ]
    },
    {
      "cell_type": "code",
      "execution_count": null,
      "metadata": {
        "id": "Yv8Vo2nN7-K1"
      },
      "outputs": [],
      "source": [
        "#Loading images from image paths\n",
        "def parse_image(file_path):\n",
        "   image=tf.io.read_file(file_path)\n",
        "   image=tf.image.decode_png(image,channels=1)\n",
        "   image=tf.image.resize(image,[IMG_height,IMG_width])\n",
        "   image=tf.cast(image,tf.float32)/255.0\n",
        "   return image"
      ]
    },
    {
      "cell_type": "code",
      "execution_count": null,
      "metadata": {
        "id": "B9ja4LU79Ozd"
      },
      "outputs": [],
      "source": [
        "def make_dataset(path,batch_size):\n",
        "    #Collecting all filepath inadirectory\n",
        "    filenames = glob(path + '/*/*')\n",
        "   #Shuffling the dataset\n",
        "    random.shuffle(filenames)\n",
        "    #Extraction Labels from fil paths(as numbers Normal:0,Osteoarthritis:1)\n",
        "    labels=[classes.index(name.split(os.path.sep)[-2])for name in filenames]\n",
        "    #Creating instance of tf.data.dataset from filenames\n",
        "    filenames_ds=tf.data.Dataset.from_tensor_slices(filenames)\n",
        "    #Loading files\n",
        "    images_ds=filenames_ds.map(parse_image,num_parallel_calls=tf.data.experimental.AUTOTUNE)\n",
        "    labels_ds=tf.data.Dataset.from_tensor_slices(labels)\n",
        "    images_ds=tf.data.Dataset.zip((images_ds,labels_ds))\n",
        "    images_ds=images_ds.shuffle(buffer_size=100)\n",
        "    images_ds=images_ds.batch(batch_size)\n",
        "    \n",
        "    images_ds=images_ds.prefetch(buffer_size=tf.data.experimental.AUTOTUNE)\n",
        "    return images_ds"
      ]
    },
    {
      "cell_type": "code",
      "execution_count": null,
      "metadata": {
        "colab": {
          "base_uri": "https://localhost:8080/"
        },
        "id": "20Hlx0PG9xJY",
        "outputId": "38dd92c3-aba3-443c-e116-7ab8126bdf43"
      },
      "outputs": [
        {
          "name": "stdout",
          "output_type": "stream",
          "text": [
            "CPU times: user 602 ms, sys: 481 ms, total: 1.08 s\n",
            "Wall time: 3.69 s\n"
          ]
        }
      ],
      "source": [
        "%%time\n",
        "ds_train=make_dataset(train_path,32)\n",
        "ds_val=make_dataset(train_path,32)\n",
        "ds_test=make_dataset(train_path,128)"
      ]
    },
    {
      "cell_type": "code",
      "execution_count": null,
      "metadata": {
        "id": "2lPE29J3_kEs"
      },
      "outputs": [],
      "source": [
        "callbacks=[\n",
        "\n",
        "    keras.callbacks.EarlyStopping(\n",
        "        #Stop training when val_Loss is no longer improving\n",
        "   \n",
        "        monitor=\"val_loss\",\n",
        "        #\"no Longer improving\"being defined as\"no better than 1e-2Less\"\n",
        "        min_delta=1e-2,\n",
        "       #\"no Longer improving\"being further defined as\"for at least2epochs\"\n",
        "        patience=5,\n",
        "        verbose=1,\n",
        "    )\n",
        "]        "
      ]
    },
    {
      "cell_type": "code",
      "execution_count": null,
      "metadata": {
        "id": "n2nXOIENAHa_"
      },
      "outputs": [],
      "source": [
        "def build_model_A():\n",
        "    batch_size=32\n",
        "    num_classes=2\n",
        "    i=Input(shape=(224,224,1))\n",
        "    x=Conv2D(32,(3,3),activation='relu',  padding='same')(i)\n",
        "    x=BatchNormalization()(x)\n",
        "    x=Conv2D(32,(3,3),activation='relu',  padding='same')(x)\n",
        "    x=BatchNormalization()(x)\n",
        "    x=MaxPooling2D((2,2))(x)\n",
        "    x=Conv2D(64,(3,3),activation='relu',  padding='same')(x)\n",
        "    x=BatchNormalization()(x)                                         \n",
        "    x=Conv2D(64,(3,3),activation='relu',  padding='same')(x)\n",
        "    x=BatchNormalization()(x)\n",
        "    x=MaxPooling2D((2,2))(x)\n",
        "    x=Conv2D(128,(3,3),activation='relu', padding='same')(x)\n",
        "    x=BatchNormalization()(x)\n",
        "    x=Conv2D(128,(3,3),activation='relu', padding='same')(x)\n",
        "    x=BatchNormalization()(x)\n",
        "    X=MaxPooling2D((2,2))(x)\n",
        "\n",
        "\n",
        "    x=Flatten()(x)\n",
        "    x=Dropout(0.2)(x)\n",
        "\n",
        "\n",
        "    #Hidden Layer\n",
        "    x=Dense(512,activation='relu')(x)\n",
        "    x=Dropout(0.2)(x)\n",
        "\n",
        "\n",
        "    #Last hidden Layer i.e .. output Layer\n",
        "    x=Dense(num_classes,activation='softmax')(x)\n",
        "    model =  Model(i,x)\n",
        "    #model description\n",
        "    model.summary()\n",
        "    model.compile(optimizer=keras.optimizers.Adam(3e-4),\n",
        "                  loss='sparse_categorical_crossentropy',\n",
        "                  metrics=['accuracy'])\n",
        "    return model\n",
        "    "
      ]
    },
    {
      "cell_type": "code",
      "execution_count": null,
      "metadata": {
        "colab": {
          "base_uri": "https://localhost:8080/"
        },
        "id": "VpywofXPB6Wf",
        "outputId": "27dab866-3caf-4969-ac99-26ca6cc42207"
      },
      "outputs": [
        {
          "name": "stdout",
          "output_type": "stream",
          "text": [
            "Model: \"model\"\n",
            "_________________________________________________________________\n",
            " Layer (type)                Output Shape              Param #   \n",
            "=================================================================\n",
            " input_1 (InputLayer)        [(None, 224, 224, 1)]     0         \n",
            "                                                                 \n",
            " conv2d (Conv2D)             (None, 224, 224, 32)      320       \n",
            "                                                                 \n",
            " batch_normalization (BatchN  (None, 224, 224, 32)     128       \n",
            " ormalization)                                                   \n",
            "                                                                 \n",
            " conv2d_1 (Conv2D)           (None, 224, 224, 32)      9248      \n",
            "                                                                 \n",
            " batch_normalization_1 (Batc  (None, 224, 224, 32)     128       \n",
            " hNormalization)                                                 \n",
            "                                                                 \n",
            " max_pooling2d (MaxPooling2D  (None, 112, 112, 32)     0         \n",
            " )                                                               \n",
            "                                                                 \n",
            " conv2d_2 (Conv2D)           (None, 112, 112, 64)      18496     \n",
            "                                                                 \n",
            " batch_normalization_2 (Batc  (None, 112, 112, 64)     256       \n",
            " hNormalization)                                                 \n",
            "                                                                 \n",
            " conv2d_3 (Conv2D)           (None, 112, 112, 64)      36928     \n",
            "                                                                 \n",
            " batch_normalization_3 (Batc  (None, 112, 112, 64)     256       \n",
            " hNormalization)                                                 \n",
            "                                                                 \n",
            " max_pooling2d_1 (MaxPooling  (None, 56, 56, 64)       0         \n",
            " 2D)                                                             \n",
            "                                                                 \n",
            " conv2d_4 (Conv2D)           (None, 56, 56, 128)       73856     \n",
            "                                                                 \n",
            " batch_normalization_4 (Batc  (None, 56, 56, 128)      512       \n",
            " hNormalization)                                                 \n",
            "                                                                 \n",
            " conv2d_5 (Conv2D)           (None, 56, 56, 128)       147584    \n",
            "                                                                 \n",
            " batch_normalization_5 (Batc  (None, 56, 56, 128)      512       \n",
            " hNormalization)                                                 \n",
            "                                                                 \n",
            " flatten (Flatten)           (None, 401408)            0         \n",
            "                                                                 \n",
            " dropout (Dropout)           (None, 401408)            0         \n",
            "                                                                 \n",
            " dense (Dense)               (None, 512)               205521408 \n",
            "                                                                 \n",
            " dropout_1 (Dropout)         (None, 512)               0         \n",
            "                                                                 \n",
            " dense_1 (Dense)             (None, 2)                 1026      \n",
            "                                                                 \n",
            "=================================================================\n",
            "Total params: 205,810,658\n",
            "Trainable params: 205,809,762\n",
            "Non-trainable params: 896\n",
            "_________________________________________________________________\n",
            "Model: \"model\"\n",
            "_________________________________________________________________\n",
            " Layer (type)                Output Shape              Param #   \n",
            "=================================================================\n",
            " input_1 (InputLayer)        [(None, 224, 224, 1)]     0         \n",
            "                                                                 \n",
            " conv2d (Conv2D)             (None, 224, 224, 32)      320       \n",
            "                                                                 \n",
            " batch_normalization (BatchN  (None, 224, 224, 32)     128       \n",
            " ormalization)                                                   \n",
            "                                                                 \n",
            " conv2d_1 (Conv2D)           (None, 224, 224, 32)      9248      \n",
            "                                                                 \n",
            " batch_normalization_1 (Batc  (None, 224, 224, 32)     128       \n",
            " hNormalization)                                                 \n",
            "                                                                 \n",
            " max_pooling2d (MaxPooling2D  (None, 112, 112, 32)     0         \n",
            " )                                                               \n",
            "                                                                 \n",
            " conv2d_2 (Conv2D)           (None, 112, 112, 64)      18496     \n",
            "                                                                 \n",
            " batch_normalization_2 (Batc  (None, 112, 112, 64)     256       \n",
            " hNormalization)                                                 \n",
            "                                                                 \n",
            " conv2d_3 (Conv2D)           (None, 112, 112, 64)      36928     \n",
            "                                                                 \n",
            " batch_normalization_3 (Batc  (None, 112, 112, 64)     256       \n",
            " hNormalization)                                                 \n",
            "                                                                 \n",
            " max_pooling2d_1 (MaxPooling  (None, 56, 56, 64)       0         \n",
            " 2D)                                                             \n",
            "                                                                 \n",
            " conv2d_4 (Conv2D)           (None, 56, 56, 128)       73856     \n",
            "                                                                 \n",
            " batch_normalization_4 (Batc  (None, 56, 56, 128)      512       \n",
            " hNormalization)                                                 \n",
            "                                                                 \n",
            " conv2d_5 (Conv2D)           (None, 56, 56, 128)       147584    \n",
            "                                                                 \n",
            " batch_normalization_5 (Batc  (None, 56, 56, 128)      512       \n",
            " hNormalization)                                                 \n",
            "                                                                 \n",
            " flatten (Flatten)           (None, 401408)            0         \n",
            "                                                                 \n",
            " dropout (Dropout)           (None, 401408)            0         \n",
            "                                                                 \n",
            " dense (Dense)               (None, 512)               205521408 \n",
            "                                                                 \n",
            " dropout_1 (Dropout)         (None, 512)               0         \n",
            "                                                                 \n",
            " dense_1 (Dense)             (None, 2)                 1026      \n",
            "                                                                 \n",
            "=================================================================\n",
            "Total params: 205,810,658\n",
            "Trainable params: 205,809,762\n",
            "Non-trainable params: 896\n",
            "_________________________________________________________________\n",
            "None\n"
          ]
        }
      ],
      "source": [
        "model=build_model_A()\n",
        "print(model.summary())"
      ]
    },
    {
      "cell_type": "code",
      "execution_count": null,
      "metadata": {
        "colab": {
          "background_save": true,
          "base_uri": "https://localhost:8080/"
        },
        "id": "khXq-yXl3YM4",
        "outputId": "cbc8ece6-06ac-44f4-ccad-34b6fbaab543"
      },
      "outputs": [
        {
          "name": "stdout",
          "output_type": "stream",
          "text": [
            "Epoch 1/20\n",
            "74/74 [==============================] - 1264s 17s/step - loss: 3.6921 - accuracy: 0.6911 - val_loss: 1.5402 - val_accuracy: 0.3423\n",
            "Epoch 2/20\n",
            "74/74 [==============================] - 1263s 17s/step - loss: 0.4199 - accuracy: 0.7791 - val_loss: 1.7965 - val_accuracy: 0.3289\n",
            "Epoch 3/20\n",
            "65/74 [=========================>....] - ETA: 2:24 - loss: 0.3434 - accuracy: 0.8111"
          ]
        }
      ],
      "source": [
        "#training model\n",
        "model.fit(ds_train,epochs=20,steps_per_epoch=math.ceil(num_train/32),\n",
        "         verbose=1,callbacks=callbacks,validation_data=ds_val,\n",
        "         validation_steps=math.ceil(num_val/32))"
      ]
    },
    {
      "cell_type": "code",
      "execution_count": null,
      "metadata": {
        "id": "exo7F89p3xjO"
      },
      "outputs": [],
      "source": [
        "model.save('model.h5')\n"
      ]
    },
    {
      "cell_type": "code",
      "execution_count": null,
      "metadata": {
        "colab": {
          "base_uri": "https://localhost:8080/"
        },
        "id": "_8pHnSA1-b9g",
        "outputId": "a70dd6fe-142c-4cf4-9127-c97eb8263580"
      },
      "outputs": [
        {
          "name": "stdout",
          "output_type": "stream",
          "text": [
            "19/19 [==============================] - 12s 353ms/step - loss: 0.0363 - accuracy: 0.9877\n"
          ]
        },
        {
          "data": {
            "text/plain": [
              "[0.036260735243558884, 0.9876595735549927]"
            ]
          },
          "execution_count": 15,
          "metadata": {},
          "output_type": "execute_result"
        }
      ],
      "source": [
        "#evaluating model\n",
        "model.evaluate(ds_test)"
      ]
    },
    {
      "cell_type": "code",
      "execution_count": null,
      "metadata": {
        "id": "7sru8gCC-lsA"
      },
      "outputs": [],
      "source": [
        ""
      ]
    }
  ],
  "metadata": {
    "accelerator": "GPU",
    "colab": {
      "collapsed_sections": [],
      "name": "Project :  probability of having osteoarthritis for a given knee X-ray image",
      "provenance": [],
      "include_colab_link": true
    },
    "gpuClass": "standard",
    "kernelspec": {
      "display_name": "Python 3",
      "name": "python3"
    }
  },
  "nbformat": 4,
  "nbformat_minor": 0
}